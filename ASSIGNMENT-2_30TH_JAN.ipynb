{
 "cells": [
  {
   "cell_type": "code",
   "execution_count": 1,
   "id": "6e9ba7a8",
   "metadata": {},
   "outputs": [
    {
     "name": "stdout",
     "output_type": "stream",
     "text": [
      "Enter the percentage:88\n",
      "B\n"
     ]
    }
   ],
   "source": [
    "# Problem -1 solution\n",
    "percentage = int(input(\"Enter the percentage:\"))\n",
    "if percentage>90:\n",
    "    print(\"A\")\n",
    "elif percentage>80 and percentage<=90:\n",
    "    print(\"B\")\n",
    "elif percentage>=60 and percentage<=80:\n",
    "    print(\"C\")\n",
    "elif percentage<60:\n",
    "    print(\"D\")"
   ]
  },
  {
   "cell_type": "code",
   "execution_count": 2,
   "id": "2ffd1e69",
   "metadata": {},
   "outputs": [
    {
     "name": "stdout",
     "output_type": "stream",
     "text": [
      "Enter the cost price of the bike:90000\n",
      "9000.0\n"
     ]
    }
   ],
   "source": [
    "# Problem-2 solution\n",
    "cp = int(input(\"Enter the cost price of the bike:\"))\n",
    "if cp>10**5:\n",
    "    print(0.15*cp)\n",
    "elif cp>50000 and cp<=10**5:\n",
    "    print(0.10*cp)\n",
    "elif cp<=50000:\n",
    "    print(0.05*cp)"
   ]
  },
  {
   "cell_type": "code",
   "execution_count": 3,
   "id": "275d08d6",
   "metadata": {},
   "outputs": [
    {
     "name": "stdout",
     "output_type": "stream",
     "text": [
      "Enter the name of the city:Agra\n",
      "Taj Mahal\n"
     ]
    }
   ],
   "source": [
    "# Problem-3 solution\n",
    "city = input(\"Enter the name of the city:\")\n",
    "if(city=='Delhi'):\n",
    "    print(\"Red Fort\")\n",
    "elif city=='Agra':\n",
    "    print(\"Taj Mahal\")\n",
    "elif city=='Jaipur':\n",
    "    print(\"Jal Mahal\")"
   ]
  },
  {
   "cell_type": "code",
   "execution_count": 4,
   "id": "d94b3d6b",
   "metadata": {},
   "outputs": [
    {
     "name": "stdout",
     "output_type": "stream",
     "text": [
      "Enter a number:88\n",
      "2\n"
     ]
    }
   ],
   "source": [
    "# Problem 4 solution\n",
    "N = int(input(\"Enter a number:\"))\n",
    "c = 0\n",
    "while N>10:\n",
    "    c+=1\n",
    "    N=N//3\n",
    "print(c)"
   ]
  },
  {
   "cell_type": "code",
   "execution_count": 5,
   "id": "c4580ecd",
   "metadata": {},
   "outputs": [
    {
     "name": "stdout",
     "output_type": "stream",
     "text": [
      "Hello I am due to while number 10\n",
      "Hello I am due to while number 11\n",
      "Hello I am due to while number 12\n",
      "Hello I am due to while number 13\n"
     ]
    }
   ],
   "source": [
    "#Problem 5 solution to why and when to use while loop with example\n",
    "\n",
    "# WHILE LOOP IS USED IN PYTHON PROGRAM TO REPEAT A PARTICULAR TASK OR OPERATIONS UNTIL A CONDITION IS SATISFIED\n",
    "# AND ALSO WHERE WE WANT TO WRITE MULTIPLE CONDITIONS IN A SINGLE LOOP STATEMENT TO EXECUTE SOME STATEMENTS\n",
    "# WHERE WE WANT TO BREAK OUT OF LOOP even if condition is True and where for loop might not work\n",
    "# Example\n",
    "# while(a>=6 and a>=100):\n",
    "    # Statements\n",
    "    # this cannot be done using for loop only\n",
    "a = 10\n",
    "while(a<14 and a>=8):\n",
    "    print(\"Hello I am due to while number\",a)\n",
    "    a+=1"
   ]
  },
  {
   "cell_type": "code",
   "execution_count": 6,
   "id": "29fc8494",
   "metadata": {},
   "outputs": [
    {
     "name": "stdout",
     "output_type": "stream",
     "text": [
      "Enter the number of rows in pattern: 10\n",
      "\n",
      "\n",
      "*\n",
      "**\n",
      "***\n",
      "****\n",
      "*****\n",
      "******\n",
      "*******\n",
      "********\n",
      "*********\n",
      "**********\n"
     ]
    }
   ],
   "source": [
    "# Problem 6 Solution\n",
    "# Pattern-1\n",
    "n = int(input(\"Enter the number of rows in pattern: \"))\n",
    "print(\"\\n\")\n",
    "i = 1\n",
    "while(i<=n):\n",
    "    j = 1\n",
    "    while(j<=i):\n",
    "        print(\"*\",end='')\n",
    "        j+=1\n",
    "    i+=1\n",
    "    print(\"\\r\")"
   ]
  },
  {
   "cell_type": "code",
   "execution_count": 7,
   "id": "a524ed47",
   "metadata": {},
   "outputs": [
    {
     "name": "stdout",
     "output_type": "stream",
     "text": [
      "Enter the number of rows in pattern: 10\n",
      "\n",
      "\n",
      "**********\n",
      "*********\n",
      "********\n",
      "*******\n",
      "******\n",
      "*****\n",
      "****\n",
      "***\n",
      "**\n",
      "*\n"
     ]
    }
   ],
   "source": [
    "# Problem 6 Solution\n",
    "# Pattern-2\n",
    "n = int(input(\"Enter the number of rows in pattern: \"))\n",
    "print(\"\\n\")\n",
    "i = 1\n",
    "while(i<=n):\n",
    "    j = n\n",
    "    while(j>=i):\n",
    "        print(\"*\",end='')\n",
    "        j-=1\n",
    "    i+=1\n",
    "    print(\"\\r\")"
   ]
  },
  {
   "cell_type": "code",
   "execution_count": 8,
   "id": "85a1f08f",
   "metadata": {},
   "outputs": [
    {
     "name": "stdout",
     "output_type": "stream",
     "text": [
      "Enter the number of rows in pattern: 10\n",
      "\n",
      "\n",
      "         *\n",
      "        **\n",
      "       ***\n",
      "      ****\n",
      "     *****\n",
      "    ******\n",
      "   *******\n",
      "  ********\n",
      " *********\n",
      "**********\n"
     ]
    }
   ],
   "source": [
    "# Problem 6 Solution\n",
    "# Pattern-3\n",
    "n = int(input(\"Enter the number of rows in pattern: \"))\n",
    "print(\"\\n\")\n",
    "i = 1\n",
    "while(i<=n):\n",
    "    print(\" \"*(n-i),end='')\n",
    "    j = 1\n",
    "    while(j<=i):\n",
    "        print(\"*\",end='')\n",
    "        j+=1\n",
    "    i+=1\n",
    "    print(\"\\r\")"
   ]
  },
  {
   "cell_type": "code",
   "execution_count": 10,
   "id": "c12e897b",
   "metadata": {},
   "outputs": [
    {
     "name": "stdout",
     "output_type": "stream",
     "text": [
      "10 9 8 7 6 5 4 3 2 1 "
     ]
    }
   ],
   "source": [
    "# Problem-7 solution\n",
    "i = 10\n",
    "while i>0:\n",
    "    print(i,end=' ')\n",
    "    i-=1"
   ]
  },
  {
   "cell_type": "code",
   "execution_count": 11,
   "id": "52acc1b2",
   "metadata": {},
   "outputs": [
    {
     "name": "stdout",
     "output_type": "stream",
     "text": [
      "10 9 8 7 6 5 4 3 2 1 "
     ]
    }
   ],
   "source": [
    "# Problem-8 solution\n",
    "i = 10\n",
    "while i>0:\n",
    "    print(i,end=' ')\n",
    "    i-=1"
   ]
  }
 ],
 "metadata": {
  "kernelspec": {
   "display_name": "Python 3 (ipykernel)",
   "language": "python",
   "name": "python3"
  },
  "language_info": {
   "codemirror_mode": {
    "name": "ipython",
    "version": 3
   },
   "file_extension": ".py",
   "mimetype": "text/x-python",
   "name": "python",
   "nbconvert_exporter": "python",
   "pygments_lexer": "ipython3",
   "version": "3.9.12"
  }
 },
 "nbformat": 4,
 "nbformat_minor": 5
}
